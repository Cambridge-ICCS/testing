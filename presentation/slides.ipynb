{
 "cells": [
  {
   "cell_type": "markdown",
   "id": "00e4fe7a",
   "metadata": {
    "slideshow": {
     "slide_type": "slide"
    }
   },
   "source": [
    "## <center><span style=\"color:green;\">Workshop</span></center>\n",
    "\n",
    "# <center>Testing</center>\n",
    "\n",
    "## <center><span style=\"color:gray;\">Chris Edsall</span></center>\n",
    "\n",
    "<img src=\"imgs/ident.png\" width=\"300\" align=centre/>"
   ]
  },
  {
   "cell_type": "markdown",
   "id": "e8fb351b",
   "metadata": {
    "slideshow": {
     "slide_type": "slide"
    }
   },
   "source": [
    "![Better Software Better Research](imgs/ssi.jpg)"
   ]
  },
  {
   "cell_type": "markdown",
   "id": "59f35b68",
   "metadata": {
    "slideshow": {
     "slide_type": "notes"
    }
   },
   "source": [
    "- Perhaps one of the best ways to make software better is to test that it is actually doing what we think it it"
   ]
  },
  {
   "cell_type": "markdown",
   "id": "856e127a",
   "metadata": {
    "slideshow": {
     "slide_type": "slide"
    }
   },
   "source": [
    "\n",
    "\n",
    "# Why\n",
    "\n",
    "Currently:\n",
    "- Reproducability crisis\n",
    "- Retractions\n",
    "\n",
    "Testing:\n",
    "- Gives collaborators confidence\n",
    "- Attracts more users => enhanced reputation\n",
    "- Finds bugs earlier in the SDLC (\"shift left\")"
   ]
  },
  {
   "cell_type": "markdown",
   "id": "24115d9a",
   "metadata": {
    "slideshow": {
     "slide_type": "subslide"
    }
   },
   "source": [
    "![](imgs/retract1.png)"
   ]
  },
  {
   "cell_type": "markdown",
   "id": "798f9210",
   "metadata": {
    "slideshow": {
     "slide_type": "subslide"
    }
   },
   "source": [
    "![](imgs/retract2.png)"
   ]
  },
  {
   "cell_type": "markdown",
   "id": "341c5d7c",
   "metadata": {
    "slideshow": {
     "slide_type": "subslide"
    }
   },
   "source": [
    "![](imgs/retract3.png)"
   ]
  },
  {
   "cell_type": "markdown",
   "id": "37d89502",
   "metadata": {
    "slideshow": {
     "slide_type": "slide"
    }
   },
   "source": [
    "# What"
   ]
  },
  {
   "cell_type": "markdown",
   "id": "25058bb9",
   "metadata": {
    "slideshow": {
     "slide_type": "subslide"
    }
   },
   "source": [
    "# Science Test Cases\n",
    "\n",
    "- e.g. \"Does this formulation of the climatge model, when spun up and run for 20 model years produce the quasi- biannial oscilartion in the right place and time?\"\n",
    "- important, but not the focus of this workshop\n",
    "\n"
   ]
  },
  {
   "cell_type": "markdown",
   "id": "ac7f36e2",
   "metadata": {
    "slideshow": {
     "slide_type": "subslide"
    }
   },
   "source": [
    "# Integration tests\n",
    "\n",
    "- Tests the application end to end\n",
    "- Can be time consuming"
   ]
  },
  {
   "cell_type": "markdown",
   "id": "74827859",
   "metadata": {
    "slideshow": {
     "slide_type": "subslide"
    }
   },
   "source": [
    "# Unit Tests\n",
    "\n",
    "- Test the smallest sensible unit, e.g. a **single function**\n",
    "- Usually much simpler, constrained test cases\n",
    "- Easier to reason about the test cases\n",
    "- (Ideally) **runs quickly**\n",
    "- Can be used for Test Driven Development\n",
    "\n",
    "  - When you write the test before you write the code that implements it\n",
    "  - You know when to stop coding!\n",
    "  \n",
    "- Unit testing implies the code is sufficiently modular"
   ]
  },
  {
   "cell_type": "markdown",
   "id": "996a377d",
   "metadata": {
    "slideshow": {
     "slide_type": "subslide"
    }
   },
   "source": [
    "# What makes a good test case?\n",
    "\n",
    "- one simple known good example\n",
    "- maximum and minimum examples\n",
    "- edge / corner cases\n",
    "  - test for off by one errors\n",
    "  - complex boundary calculations\n",
    "  - diagonal cases (stencil code)\n"
   ]
  },
  {
   "cell_type": "markdown",
   "id": "c728cdf5",
   "metadata": {
    "slideshow": {
     "slide_type": "subslide"
    }
   },
   "source": [
    "# Regression Tests\n",
    "\n",
    "- make sure things _still_ work the way they should\n",
    "- detect\n",
    "  - regressions in **correctness** (common to reintroduce an old bug when fixing a new one)\n",
    "  - regressions in **perfromance**\n",
    "  \n",
    "e.g. https://fenics.github.io/performance-test-results/\n",
    "\n",
    "![FEniCS Performance Regression](imgs/fenics.png)"
   ]
  },
  {
   "cell_type": "markdown",
   "id": "311515f4",
   "metadata": {
    "slideshow": {
     "slide_type": "subslide"
    }
   },
   "source": [
    "# Other types\n",
    "\n",
    "## Fuzz Testing\n",
    "\n",
    "- feed the software under test **random input** or **syntacticaly correct but erroneous** data\n",
    "- mostly used in security\n",
    "\n",
    "## Black Box\n",
    "\n",
    "- \"Golden outputs\"\n",
    "\n",
    "## Property Based Testing\n",
    "\n",
    "- Origianlly `QuickCheck` from Haskell\n",
    "- automates the generation of test cases\n",
    "- finds reduced cases on failure\n",
    "- Python framework is called `hypothesis`"
   ]
  },
  {
   "cell_type": "markdown",
   "id": "5bc6b0bc",
   "metadata": {
    "slideshow": {
     "slide_type": "subslide"
    }
   },
   "source": [
    "> “Program testing can be used to show the presence of bugs, but never to show their absence!”\n",
    "\n",
    "Edsger W. Dijkstra"
   ]
  },
  {
   "cell_type": "markdown",
   "id": "00f6c24b",
   "metadata": {
    "slideshow": {
     "slide_type": "subslide"
    }
   },
   "source": [
    "# Coverage\n",
    "\n",
    "- What fraction of the lines of code are run when running a test suite\n",
    "- Diminishing returns when aiminig for 100%\n",
    "- Python framework is calle `coverage`"
   ]
  },
  {
   "cell_type": "markdown",
   "id": "8698cba2",
   "metadata": {
    "slideshow": {
     "slide_type": "subslide"
    }
   },
   "source": [
    "# Test Frameworks\n",
    "\n",
    "- You can use bare asserts\n",
    "- frameworks provide \"affordances\"\n",
    "\n",
    "  - convenience functions like ``assert_almost_equal``\n",
    "  - grouping tests\n",
    "  - running subsets of tests\n",
    "  - providing \"fixtures\"\n",
    "    - eg setting up and tearing down a populated database"
   ]
  },
  {
   "cell_type": "markdown",
   "id": "fe9ec0e6",
   "metadata": {
    "slideshow": {
     "slide_type": "subslide"
    }
   },
   "source": [
    "# Common Test Frameworks\n",
    "\n",
    "## Python\n",
    "\n",
    "- pytest\n",
    "- (``Unittest`` is builtin, but don't use it)\n",
    "\n",
    "## C++\n",
    "\n",
    "- Catch2\n",
    "- Google Test\n",
    "\n",
    "## Fortran\n",
    "\n",
    "- Currently don't have a recomendation, There are a number on https://fortran-lang.org/en/packages/programming/\n",
    "\n",
    "## Julia\n",
    "\n",
    "- `Test` module\n",
    "\n"
   ]
  },
  {
   "cell_type": "markdown",
   "id": "835120f7",
   "metadata": {
    "slideshow": {
     "slide_type": "slide"
    }
   },
   "source": [
    "# Pytest"
   ]
  },
  {
   "cell_type": "markdown",
   "id": "c37447f6",
   "metadata": {
    "slideshow": {
     "slide_type": "slide"
    }
   },
   "source": [
    "# Exercise 0 - Install Pytest\n",
    "\n",
    "## You might already have it!\n",
    "\n",
    "```bash\n",
    "pytest -v\n",
    "```\n",
    "\n",
    "## pip / venv\n",
    "\n",
    "Linux / mac\n",
    "\n",
    "```bash\n",
    "cd python\n",
    "python3 -m venv pytestenv \n",
    "source pytestenv/bin/activate\n",
    "pip install -r requirements.txt\n",
    "```\n",
    "\n",
    "## conda\n",
    "\n",
    "Linux / mac\n",
    "\n",
    "```bash\n",
    "conda-env create --name pytestenv -f requiremnets.txt \n",
    "```"
   ]
  },
  {
   "cell_type": "markdown",
   "id": "c53bfa34",
   "metadata": {
    "slideshow": {
     "slide_type": "slide"
    }
   },
   "source": [
    "# Exercise 1 - Run Pytest\n",
    "\n",
    "```\n",
    "pytest\n",
    "```"
   ]
  },
  {
   "cell_type": "markdown",
   "id": "6240d12f",
   "metadata": {
    "slideshow": {
     "slide_type": "slide"
    }
   },
   "source": [
    "\n",
    "# Exercise 2 - Add a test\n",
    "\n",
    "Check that dividing any particular integer by 1 gives the same integer.\n",
    "\n",
    "<div class=\"alert alert-block alert-success\"><b>Aside:</b> Checking thins in the general sense for all integers is a property based test for which you would use hypothesis</div>"
   ]
  },
  {
   "cell_type": "markdown",
   "id": "d00ff06a",
   "metadata": {
    "slideshow": {
     "slide_type": "slide"
    }
   },
   "source": [
    "# Expected failures\n",
    "\n",
    "- Sometimes you want to make sure the code processes exceptions properly\n",
    "- Normally this would exit the interpreter\n",
    "- pytest can check in side a context\n",
    "```python\n",
    "with pytest.raises(YourException):\n",
    "    thing_that_will_hopefully_fail()\n",
    "```"
   ]
  },
  {
   "cell_type": "markdown",
   "id": "6d186a60",
   "metadata": {
    "slideshow": {
     "slide_type": "subslide"
    }
   },
   "source": [
    "# Exercise 3 - Add an expected fail test\n",
    "\n",
    "Check that divide function rases the `ZeroDivisionError` exception when the divisor is zero.\n"
   ]
  },
  {
   "cell_type": "markdown",
   "id": "aab09fb4",
   "metadata": {
    "slideshow": {
     "slide_type": "slide"
    }
   },
   "source": [
    "# Fixtures\n",
    "\n",
    "- a fixture sets up a resource that will be used between multiple tests\n",
    "- e.g.:\n",
    "  - set up and tear down a database\n",
    "  - download a large file (only once)\n",
    "  \n",
    "- decorate the setup function with `@pytest.fixture`\n",
    "- specify that you want a fixture by adding it's name to the test function call"
   ]
  },
  {
   "cell_type": "markdown",
   "id": "232226fe",
   "metadata": {
    "slideshow": {
     "slide_type": "slide"
    }
   },
   "source": [
    "# Exercise 4 - Add a test with a fixture\n",
    "\n"
   ]
  },
  {
   "cell_type": "markdown",
   "id": "164ba36e",
   "metadata": {
    "slideshow": {
     "slide_type": "slide"
    }
   },
   "source": [
    "# Exercise 5  - Install Catch2\n",
    "\n",
    "- Catch2 can be used as a header only library, so it is sufficient to download the ``.hpp`` file and add it to your project\n",
    "- Boost Licence\n",
    "\n",
    "```bash\n",
    "make fetch\n",
    "make\n",
    "./TestCase --success\n",
    "```\n"
   ]
  },
  {
   "cell_type": "markdown",
   "id": "4c66553b",
   "metadata": {
    "slideshow": {
     "slide_type": "subslide"
    }
   },
   "source": [
    "# Exercise 6 - Make the test pass\n",
    "\n",
    "Hint: look at the commented out line"
   ]
  },
  {
   "cell_type": "markdown",
   "id": "0ad0f7e2",
   "metadata": {
    "slideshow": {
     "slide_type": "slide"
    }
   },
   "source": [
    "# Hints and Tips\n",
    "\n",
    "- `pytest --pdb` will drop you in to the python debugger on a failed test\n",
    "- Whenever you fix a bug add a test\n",
    "- Configure your IDE to run the tests\n",
    "- Run the fast tests in your git commit hooks\n",
    "- Run tests before pushing"
   ]
  },
  {
   "cell_type": "code",
   "execution_count": null,
   "id": "aa6d5fb4",
   "metadata": {},
   "outputs": [],
   "source": []
  }
 ],
 "metadata": {
  "celltoolbar": "Slideshow",
  "kernelspec": {
   "display_name": "Python 3 (ipykernel)",
   "language": "python",
   "name": "python3"
  },
  "language_info": {
   "codemirror_mode": {
    "name": "ipython",
    "version": 3
   },
   "file_extension": ".py",
   "mimetype": "text/x-python",
   "name": "python",
   "nbconvert_exporter": "python",
   "pygments_lexer": "ipython3",
   "version": "3.10.4"
  },
  "rise": {
   "slideNumber": true
  }
 },
 "nbformat": 4,
 "nbformat_minor": 5
}
