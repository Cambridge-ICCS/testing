{
 "cells": [
  {
   "cell_type": "markdown",
   "id": "00e4fe7a",
   "metadata": {
    "slideshow": {
     "slide_type": "slide"
    }
   },
   "source": [
    "## <center><span style=\"color:green;\">Workshop</span></center>\n",
    "\n",
    "# <center>Testing</center>\n",
    "\n",
    "## <center><span style=\"color:gray;\">Chris Edsall</span></center>\n",
    "\n",
    "<img src=\"imgs/ident.png\" width=\"300\"/>"
   ]
  },
  {
   "cell_type": "markdown",
   "id": "e8fb351b",
   "metadata": {
    "slideshow": {
     "slide_type": "slide"
    }
   },
   "source": [
    "![Better Software Better Research](imgs/ssi.jpg)"
   ]
  },
  {
   "cell_type": "markdown",
   "id": "856e127a",
   "metadata": {
    "slideshow": {
     "slide_type": "slide"
    }
   },
   "source": [
    "\n",
    "\n",
    "# Why\n",
    "\n",
    "- reproducability crisis\n",
    "- retractions\n",
    "- gives collaborators confidence\n",
    "- attracts more users => enhanced reputation\n",
    "- finds bugs earlier in the SDLC (\"shift left\")"
   ]
  },
  {
   "cell_type": "markdown",
   "id": "37d89502",
   "metadata": {
    "slideshow": {
     "slide_type": "slide"
    }
   },
   "source": [
    "# What"
   ]
  },
  {
   "cell_type": "markdown",
   "id": "25058bb9",
   "metadata": {
    "slideshow": {
     "slide_type": "subslide"
    }
   },
   "source": [
    "# Science Test Cases\n",
    "\n",
    "- e.g. \"Does this formulation of the climatge model, when spun up and run for 20 model years produce the quasi- biannial oscilartion in the right place and time?\"\n",
    "- important, but not the focus of this workshop\n",
    "\n"
   ]
  },
  {
   "cell_type": "markdown",
   "id": "ac7f36e2",
   "metadata": {
    "slideshow": {
     "slide_type": "subslide"
    }
   },
   "source": [
    "# Integration tests\n",
    "\n",
    "- Tests the application end to end\n",
    "- Can be time consuming"
   ]
  },
  {
   "cell_type": "markdown",
   "id": "74827859",
   "metadata": {
    "slideshow": {
     "slide_type": "subslide"
    }
   },
   "source": [
    "# Unit Tests\n",
    "\n",
    "- Test the smallest sensible unit, e.g. a **single function**\n",
    "- Usually much simpler, constrained test cases\n",
    "- Easier to reason about the test cases\n",
    "- (Ideally) **runs quickly**\n",
    "- Can be used for Test Driven Development\n",
    "\n",
    "  - When you write the test before you write the code that implements it\n",
    "  - You know when to stop coding!\n",
    "  \n",
    "- Unit testing implies the code is sufficiently modular"
   ]
  },
  {
   "cell_type": "markdown",
   "id": "c728cdf5",
   "metadata": {
    "slideshow": {
     "slide_type": "subslide"
    }
   },
   "source": [
    "# Regression Tests\n",
    "\n",
    "- make sure things _still_ work the way they should\n",
    "- detect\n",
    "  - regressions in **correctness** (common to reintroduce an old bug when fixing a new one)\n",
    "  - regressions in **perfromance**\n",
    "  \n",
    "e.g. https://fenics.github.io/performance-test-results/\n",
    "\n",
    "![FEniCS Performance Regression](imgs/fenics.png)"
   ]
  },
  {
   "cell_type": "markdown",
   "id": "311515f4",
   "metadata": {
    "slideshow": {
     "slide_type": "subslide"
    }
   },
   "source": [
    "# Other types\n",
    "\n",
    "## Fuzz Testing\n",
    "\n",
    "- feed the software under test **random input** or **syntacticaly correct but erroneous** data\n",
    "- mostly used in security\n",
    "\n",
    "## Black Box\n",
    "\n",
    "- \"Golden outputs\"\n",
    "\n",
    "## Property Based Testing\n"
   ]
  },
  {
   "cell_type": "markdown",
   "id": "00f6c24b",
   "metadata": {
    "slideshow": {
     "slide_type": "subslide"
    }
   },
   "source": [
    "# Coverage\n",
    "\n",
    "- What fraction of the lines of code are run when running a test suite\n",
    "- Diminishing returns when aiminig for 100%"
   ]
  },
  {
   "cell_type": "markdown",
   "id": "8698cba2",
   "metadata": {
    "slideshow": {
     "slide_type": "subslide"
    }
   },
   "source": [
    "# Test Frameworks\n",
    "\n",
    "- You can use bare asserts\n",
    "- frameworks provide \"affordances\"\n",
    "\n",
    "  - convenience functions like ``assert_almost_equal``\n",
    "  - grouping tests\n",
    "  - running subsets of tests\n",
    "  - providing \"fixtures\"\n",
    "    - eg setting up and tearing down a populated database"
   ]
  },
  {
   "cell_type": "markdown",
   "id": "fe9ec0e6",
   "metadata": {
    "slideshow": {
     "slide_type": "subslide"
    }
   },
   "source": [
    "# Common Test Frameworks\n",
    "\n",
    "## Python\n",
    "\n",
    "- pytest\n",
    "- (``Unittest`` is builtin, but don't use it)\n",
    "\n",
    "## C++\n",
    "\n",
    "- Catch2\n",
    "- Google Test\n",
    "\n",
    "## Fortran\n",
    "\n",
    "- FIXME: don't have a recomendation"
   ]
  },
  {
   "cell_type": "markdown",
   "id": "835120f7",
   "metadata": {
    "slideshow": {
     "slide_type": "slide"
    }
   },
   "source": [
    "# Pytest"
   ]
  },
  {
   "cell_type": "markdown",
   "id": "c37447f6",
   "metadata": {
    "slideshow": {
     "slide_type": "slide"
    }
   },
   "source": [
    "# Exercise 0 - Install Pytest\n",
    "\n",
    "## You might already have it!\n",
    "\n",
    "```bash\n",
    "pytest -v\n",
    "```\n",
    "\n",
    "## pip / venv\n",
    "\n",
    "## conda"
   ]
  },
  {
   "cell_type": "markdown",
   "id": "c53bfa34",
   "metadata": {
    "slideshow": {
     "slide_type": "slide"
    }
   },
   "source": [
    "# Exercise 1 - Run Pytest"
   ]
  },
  {
   "cell_type": "markdown",
   "id": "6240d12f",
   "metadata": {
    "slideshow": {
     "slide_type": "slide"
    }
   },
   "source": [
    "# Exercise 2 - Add a test"
   ]
  },
  {
   "cell_type": "markdown",
   "id": "6d186a60",
   "metadata": {
    "slideshow": {
     "slide_type": "slide"
    }
   },
   "source": [
    "# Exercise 3 - Add an expected fail test"
   ]
  },
  {
   "cell_type": "markdown",
   "id": "232226fe",
   "metadata": {
    "slideshow": {
     "slide_type": "slide"
    }
   },
   "source": [
    "# Exercise 4 - Add a test with a fixture"
   ]
  },
  {
   "cell_type": "markdown",
   "id": "164ba36e",
   "metadata": {},
   "source": [
    "# Exercise 5  - Install Catch2\n",
    "\n",
    "- Catch2 can be used as a header only library, so it is sufficient to download the ``.hpp`` file and add it to your project\n",
    "- FIXME: Check licensing\n"
   ]
  },
  {
   "cell_type": "markdown",
   "id": "7e8ea7e9",
   "metadata": {
    "slideshow": {
     "slide_type": "notes"
    }
   },
   "source": [
    "- code coverage (in python)\n",
    "- forward announce github CI (wednesday morning)\n",
    "- mention property based testing\n",
    "- where to get the source to be tested \n",
    "- hints for pytest\n",
    "  - ``--pdb``\n",
    "- reframe for HPC testing"
   ]
  },
  {
   "cell_type": "code",
   "execution_count": null,
   "id": "0a4811a3",
   "metadata": {},
   "outputs": [],
   "source": []
  },
  {
   "cell_type": "raw",
   "id": "fc3c76d9",
   "metadata": {},
   "source": []
  }
 ],
 "metadata": {
  "celltoolbar": "Slideshow",
  "kernelspec": {
   "display_name": "Python 3 (ipykernel)",
   "language": "python",
   "name": "python3"
  },
  "language_info": {
   "codemirror_mode": {
    "name": "ipython",
    "version": 3
   },
   "file_extension": ".py",
   "mimetype": "text/x-python",
   "name": "python",
   "nbconvert_exporter": "python",
   "pygments_lexer": "ipython3",
   "version": "3.10.4"
  }
 },
 "nbformat": 4,
 "nbformat_minor": 5
}
